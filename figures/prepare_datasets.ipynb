{
 "cells": [
  {
   "cell_type": "markdown",
   "metadata": {},
   "source": [
    "This notebook changes the cell labels to a higher level in the cell ontology.\n",
    "\n",
    "If you downloaded the data sets from file.biolab.si/tsne-embedding, you do **not** need to run this notebook."
   ]
  },
  {
   "cell_type": "code",
   "execution_count": 1,
   "metadata": {},
   "outputs": [],
   "source": [
    "from os import path\n",
    "\n",
    "import openTSNE\n",
    "\n",
    "import anndata\n",
    "import numpy as np\n",
    "import pandas as pd\n",
    "import scanpy as sc\n",
    "import string\n",
    "\n",
    "import sys\n",
    "sys.path.append(path.join(\"..\", \"notebooks\"))\n",
    "sys.path.append(path.join(\"..\", \"notebooks\", \"utils.py\"))\n",
    "import utils\n",
    "\n",
    "import matplotlib.pyplot as plt\n",
    "%matplotlib inline"
   ]
  },
  {
   "cell_type": "markdown",
   "metadata": {},
   "source": [
    "# Hrvatin"
   ]
  },
  {
   "cell_type": "code",
   "execution_count": 2,
   "metadata": {},
   "outputs": [],
   "source": [
    "fname = path.join(\"..\", \"data\", \"hrvatin_2018.h5ad\")"
   ]
  },
  {
   "cell_type": "code",
   "execution_count": 3,
   "metadata": {},
   "outputs": [],
   "source": [
    "adata = anndata.read_h5ad(fname)"
   ]
  },
  {
   "cell_type": "code",
   "execution_count": 4,
   "metadata": {},
   "outputs": [
    {
     "data": {
      "text/plain": [
       "Neuron              15223\n",
       "Microglia           10158\n",
       "Oligodendrocyte      8630\n",
       "Astrocyte            7039\n",
       "Endothelial cell     3450\n",
       "OPC                  1826\n",
       "Pericyte              782\n",
       "Muscle cell           621\n",
       "Macrophage            537\n",
       "Name: labels, dtype: int64"
      ]
     },
     "execution_count": 4,
     "metadata": {},
     "output_type": "execute_result"
    }
   ],
   "source": [
    "adata.obs[\"labels\"] = adata.obs[\"labels\"].replace({\n",
    "    \"neuron of cerebral cortex\": \"Neuron\",\n",
    "    \"CNS interneuron\": \"Neuron\",\n",
    "    \"hippocampal neuron\": \"Neuron\",\n",
    "    \n",
    "    \"microglial cell\": \"Microglia\",\n",
    "    \"oligodendrocyte\": \"Oligodendrocyte\",\n",
    "    \"oligodendrocyte precursor cell\": \"OPC\",\n",
    "    \"astrocyte\": \"Astrocyte\",\n",
    "    \"endothelial cell\": \"Endothelial cell\",\n",
    "    \"pericyte cell\": \"Pericyte\",\n",
    "    \"macrophage\": \"Macrophage\",\n",
    "    \"smooth muscle cell\": \"Muscle cell\",\n",
    "})\n",
    "adata.obs[\"labels\"].value_counts()"
   ]
  },
  {
   "cell_type": "code",
   "execution_count": 5,
   "metadata": {},
   "outputs": [
    {
     "data": {
      "text/plain": [
       "AnnData object with n_obs × n_vars = 48266 × 25186 \n",
       "    obs: 'labels', 'batch_id', 'paper_cell_type', 'paper_cell_subtype'\n",
       "    uns: 'name', 'organism', 'tissue', 'year'"
      ]
     },
     "execution_count": 5,
     "metadata": {},
     "output_type": "execute_result"
    }
   ],
   "source": [
    "adata"
   ]
  },
  {
   "cell_type": "code",
   "execution_count": 6,
   "metadata": {},
   "outputs": [
    {
     "name": "stderr",
     "output_type": "stream",
     "text": [
      "... storing 'labels' as categorical\n"
     ]
    }
   ],
   "source": [
    "adata.write_h5ad(fname)"
   ]
  },
  {
   "cell_type": "markdown",
   "metadata": {},
   "source": [
    "# Chen"
   ]
  },
  {
   "cell_type": "code",
   "execution_count": 7,
   "metadata": {},
   "outputs": [],
   "source": [
    "fname = path.join(\"..\", \"data\", \"chen_2017.h5ad\")"
   ]
  },
  {
   "cell_type": "code",
   "execution_count": 8,
   "metadata": {},
   "outputs": [],
   "source": [
    "new = anndata.read_h5ad(fname)"
   ]
  },
  {
   "cell_type": "code",
   "execution_count": 9,
   "metadata": {},
   "outputs": [
    {
     "data": {
      "text/plain": [
       "Oligodendrocyte    3541\n",
       "unknown            2531\n",
       "Neuron             2315\n",
       "OPC                1792\n",
       "epithelial cell    1197\n",
       "Astrocyte          1148\n",
       "Microglia           724\n",
       "tanycyte            609\n",
       "ependymal cell      413\n",
       "Macrophage          167\n",
       "Name: labels, dtype: int64"
      ]
     },
     "execution_count": 9,
     "metadata": {},
     "output_type": "execute_result"
    }
   ],
   "source": [
    "new.obs[\"labels\"] = new.obs[\"labels\"].replace({    \n",
    "    \"neuron of cerebral cortex\": \"Neuron\",\n",
    "    \"GABAergic neuron\": \"Neuron\",\n",
    "    \"glutamatergic neuron\": \"Neuron\",\n",
    "    \"histaminergic neuron\": \"Neuron\",\n",
    "    \"CNS interneuron\": \"Neuron\",\n",
    "    \"hippocampal neuron\": \"Neuron\",\n",
    "    \n",
    "    \"microglial cell\": \"Microglia\",\n",
    "    \"oligodendrocyte\": \"Oligodendrocyte\",\n",
    "    \"oligodendrocyte precursor cell\": \"OPC\",\n",
    "    \"astrocyte\": \"Astrocyte\",\n",
    "    \"endothelial cell\": \"Endothelial cell\",\n",
    "    \"pericyte cell\": \"Pericyte\",\n",
    "    \"macrophage\": \"Macrophage\",\n",
    "    \"smooth muscle cell\": \"Muscle cell\",\n",
    "})\n",
    "new.obs[\"labels\"].value_counts()"
   ]
  },
  {
   "cell_type": "code",
   "execution_count": 10,
   "metadata": {},
   "outputs": [
    {
     "data": {
      "text/plain": [
       "AnnData object with n_obs × n_vars = 14437 × 23284 \n",
       "    obs: 'labels', 'paper_celltype', 'batch_id'\n",
       "    uns: 'name', 'organism', 'tissue', 'year'"
      ]
     },
     "execution_count": 10,
     "metadata": {},
     "output_type": "execute_result"
    }
   ],
   "source": [
    "new"
   ]
  },
  {
   "cell_type": "code",
   "execution_count": 11,
   "metadata": {},
   "outputs": [
    {
     "name": "stderr",
     "output_type": "stream",
     "text": [
      "... storing 'labels' as categorical\n"
     ]
    }
   ],
   "source": [
    "new.write_h5ad(fname)"
   ]
  },
  {
   "cell_type": "code",
   "execution_count": 12,
   "metadata": {},
   "outputs": [
    {
     "data": {
      "text/html": [
       "<style  type=\"text/css\" >\n",
       "    #T_aeb7b5f4_8dcb_11e9_b15c_a53e79f1306drow0_col0 {\n",
       "            width:  10em;\n",
       "        }    #T_aeb7b5f4_8dcb_11e9_b15c_a53e79f1306drow0_col1 {\n",
       "            width:  10em;\n",
       "        }    #T_aeb7b5f4_8dcb_11e9_b15c_a53e79f1306drow1_col0 {\n",
       "            width:  10em;\n",
       "        }    #T_aeb7b5f4_8dcb_11e9_b15c_a53e79f1306drow1_col1 {\n",
       "            width:  10em;\n",
       "        }    #T_aeb7b5f4_8dcb_11e9_b15c_a53e79f1306drow2_col0 {\n",
       "            width:  10em;\n",
       "        }    #T_aeb7b5f4_8dcb_11e9_b15c_a53e79f1306drow2_col1 {\n",
       "            width:  10em;\n",
       "        }    #T_aeb7b5f4_8dcb_11e9_b15c_a53e79f1306drow3_col0 {\n",
       "            width:  10em;\n",
       "        }    #T_aeb7b5f4_8dcb_11e9_b15c_a53e79f1306drow3_col1 {\n",
       "            width:  10em;\n",
       "        }    #T_aeb7b5f4_8dcb_11e9_b15c_a53e79f1306drow4_col0 {\n",
       "            width:  10em;\n",
       "        }    #T_aeb7b5f4_8dcb_11e9_b15c_a53e79f1306drow4_col1 {\n",
       "            width:  10em;\n",
       "        }    #T_aeb7b5f4_8dcb_11e9_b15c_a53e79f1306drow5_col0 {\n",
       "            width:  10em;\n",
       "        }    #T_aeb7b5f4_8dcb_11e9_b15c_a53e79f1306drow5_col1 {\n",
       "            width:  10em;\n",
       "        }    #T_aeb7b5f4_8dcb_11e9_b15c_a53e79f1306drow6_col0 {\n",
       "            width:  10em;\n",
       "        }    #T_aeb7b5f4_8dcb_11e9_b15c_a53e79f1306drow6_col1 {\n",
       "            width:  10em;\n",
       "        }    #T_aeb7b5f4_8dcb_11e9_b15c_a53e79f1306drow7_col0 {\n",
       "            width:  10em;\n",
       "        }    #T_aeb7b5f4_8dcb_11e9_b15c_a53e79f1306drow7_col1 {\n",
       "            width:  10em;\n",
       "        }    #T_aeb7b5f4_8dcb_11e9_b15c_a53e79f1306drow8_col0 {\n",
       "            width:  10em;\n",
       "        }    #T_aeb7b5f4_8dcb_11e9_b15c_a53e79f1306drow8_col1 {\n",
       "            width:  10em;\n",
       "        }    #T_aeb7b5f4_8dcb_11e9_b15c_a53e79f1306drow9_col0 {\n",
       "            width:  10em;\n",
       "        }    #T_aeb7b5f4_8dcb_11e9_b15c_a53e79f1306drow9_col1 {\n",
       "            width:  10em;\n",
       "        }    #T_aeb7b5f4_8dcb_11e9_b15c_a53e79f1306drow10_col0 {\n",
       "            width:  10em;\n",
       "        }    #T_aeb7b5f4_8dcb_11e9_b15c_a53e79f1306drow10_col1 {\n",
       "            width:  10em;\n",
       "        }    #T_aeb7b5f4_8dcb_11e9_b15c_a53e79f1306drow11_col0 {\n",
       "            width:  10em;\n",
       "        }    #T_aeb7b5f4_8dcb_11e9_b15c_a53e79f1306drow11_col1 {\n",
       "            width:  10em;\n",
       "        }    #T_aeb7b5f4_8dcb_11e9_b15c_a53e79f1306drow12_col0 {\n",
       "            width:  10em;\n",
       "        }    #T_aeb7b5f4_8dcb_11e9_b15c_a53e79f1306drow12_col1 {\n",
       "            width:  10em;\n",
       "        }</style>  \n",
       "<table id=\"T_aeb7b5f4_8dcb_11e9_b15c_a53e79f1306d\" > \n",
       "<thead>    <tr> \n",
       "        <th class=\"blank level0\" ></th> \n",
       "        <th class=\"col_heading level0 col0\" >hrvatin_2018</th> \n",
       "        <th class=\"col_heading level0 col1\" >chen_2017</th> \n",
       "    </tr></thead> \n",
       "<tbody>    <tr> \n",
       "        <th id=\"T_aeb7b5f4_8dcb_11e9_b15c_a53e79f1306dlevel0_row0\" class=\"row_heading level0 row0\" >Astrocyte</th> \n",
       "        <td id=\"T_aeb7b5f4_8dcb_11e9_b15c_a53e79f1306drow0_col0\" class=\"data row0 col0\" >7039</td> \n",
       "        <td id=\"T_aeb7b5f4_8dcb_11e9_b15c_a53e79f1306drow0_col1\" class=\"data row0 col1\" >1148</td> \n",
       "    </tr>    <tr> \n",
       "        <th id=\"T_aeb7b5f4_8dcb_11e9_b15c_a53e79f1306dlevel0_row1\" class=\"row_heading level0 row1\" >Endothelial cell</th> \n",
       "        <td id=\"T_aeb7b5f4_8dcb_11e9_b15c_a53e79f1306drow1_col0\" class=\"data row1 col0\" >3450</td> \n",
       "        <td id=\"T_aeb7b5f4_8dcb_11e9_b15c_a53e79f1306drow1_col1\" class=\"data row1 col1\" ></td> \n",
       "    </tr>    <tr> \n",
       "        <th id=\"T_aeb7b5f4_8dcb_11e9_b15c_a53e79f1306dlevel0_row2\" class=\"row_heading level0 row2\" >Macrophage</th> \n",
       "        <td id=\"T_aeb7b5f4_8dcb_11e9_b15c_a53e79f1306drow2_col0\" class=\"data row2 col0\" >537</td> \n",
       "        <td id=\"T_aeb7b5f4_8dcb_11e9_b15c_a53e79f1306drow2_col1\" class=\"data row2 col1\" >167</td> \n",
       "    </tr>    <tr> \n",
       "        <th id=\"T_aeb7b5f4_8dcb_11e9_b15c_a53e79f1306dlevel0_row3\" class=\"row_heading level0 row3\" >Microglia</th> \n",
       "        <td id=\"T_aeb7b5f4_8dcb_11e9_b15c_a53e79f1306drow3_col0\" class=\"data row3 col0\" >10158</td> \n",
       "        <td id=\"T_aeb7b5f4_8dcb_11e9_b15c_a53e79f1306drow3_col1\" class=\"data row3 col1\" >724</td> \n",
       "    </tr>    <tr> \n",
       "        <th id=\"T_aeb7b5f4_8dcb_11e9_b15c_a53e79f1306dlevel0_row4\" class=\"row_heading level0 row4\" >Muscle cell</th> \n",
       "        <td id=\"T_aeb7b5f4_8dcb_11e9_b15c_a53e79f1306drow4_col0\" class=\"data row4 col0\" >621</td> \n",
       "        <td id=\"T_aeb7b5f4_8dcb_11e9_b15c_a53e79f1306drow4_col1\" class=\"data row4 col1\" ></td> \n",
       "    </tr>    <tr> \n",
       "        <th id=\"T_aeb7b5f4_8dcb_11e9_b15c_a53e79f1306dlevel0_row5\" class=\"row_heading level0 row5\" >Neuron</th> \n",
       "        <td id=\"T_aeb7b5f4_8dcb_11e9_b15c_a53e79f1306drow5_col0\" class=\"data row5 col0\" >15223</td> \n",
       "        <td id=\"T_aeb7b5f4_8dcb_11e9_b15c_a53e79f1306drow5_col1\" class=\"data row5 col1\" >2315</td> \n",
       "    </tr>    <tr> \n",
       "        <th id=\"T_aeb7b5f4_8dcb_11e9_b15c_a53e79f1306dlevel0_row6\" class=\"row_heading level0 row6\" >OPC</th> \n",
       "        <td id=\"T_aeb7b5f4_8dcb_11e9_b15c_a53e79f1306drow6_col0\" class=\"data row6 col0\" >1826</td> \n",
       "        <td id=\"T_aeb7b5f4_8dcb_11e9_b15c_a53e79f1306drow6_col1\" class=\"data row6 col1\" >1792</td> \n",
       "    </tr>    <tr> \n",
       "        <th id=\"T_aeb7b5f4_8dcb_11e9_b15c_a53e79f1306dlevel0_row7\" class=\"row_heading level0 row7\" >Oligodendrocyte</th> \n",
       "        <td id=\"T_aeb7b5f4_8dcb_11e9_b15c_a53e79f1306drow7_col0\" class=\"data row7 col0\" >8630</td> \n",
       "        <td id=\"T_aeb7b5f4_8dcb_11e9_b15c_a53e79f1306drow7_col1\" class=\"data row7 col1\" >3541</td> \n",
       "    </tr>    <tr> \n",
       "        <th id=\"T_aeb7b5f4_8dcb_11e9_b15c_a53e79f1306dlevel0_row8\" class=\"row_heading level0 row8\" >Pericyte</th> \n",
       "        <td id=\"T_aeb7b5f4_8dcb_11e9_b15c_a53e79f1306drow8_col0\" class=\"data row8 col0\" >782</td> \n",
       "        <td id=\"T_aeb7b5f4_8dcb_11e9_b15c_a53e79f1306drow8_col1\" class=\"data row8 col1\" ></td> \n",
       "    </tr>    <tr> \n",
       "        <th id=\"T_aeb7b5f4_8dcb_11e9_b15c_a53e79f1306dlevel0_row9\" class=\"row_heading level0 row9\" >ependymal cell</th> \n",
       "        <td id=\"T_aeb7b5f4_8dcb_11e9_b15c_a53e79f1306drow9_col0\" class=\"data row9 col0\" ></td> \n",
       "        <td id=\"T_aeb7b5f4_8dcb_11e9_b15c_a53e79f1306drow9_col1\" class=\"data row9 col1\" >413</td> \n",
       "    </tr>    <tr> \n",
       "        <th id=\"T_aeb7b5f4_8dcb_11e9_b15c_a53e79f1306dlevel0_row10\" class=\"row_heading level0 row10\" >epithelial cell</th> \n",
       "        <td id=\"T_aeb7b5f4_8dcb_11e9_b15c_a53e79f1306drow10_col0\" class=\"data row10 col0\" ></td> \n",
       "        <td id=\"T_aeb7b5f4_8dcb_11e9_b15c_a53e79f1306drow10_col1\" class=\"data row10 col1\" >1197</td> \n",
       "    </tr>    <tr> \n",
       "        <th id=\"T_aeb7b5f4_8dcb_11e9_b15c_a53e79f1306dlevel0_row11\" class=\"row_heading level0 row11\" >tanycyte</th> \n",
       "        <td id=\"T_aeb7b5f4_8dcb_11e9_b15c_a53e79f1306drow11_col0\" class=\"data row11 col0\" ></td> \n",
       "        <td id=\"T_aeb7b5f4_8dcb_11e9_b15c_a53e79f1306drow11_col1\" class=\"data row11 col1\" >609</td> \n",
       "    </tr>    <tr> \n",
       "        <th id=\"T_aeb7b5f4_8dcb_11e9_b15c_a53e79f1306dlevel0_row12\" class=\"row_heading level0 row12\" >unknown</th> \n",
       "        <td id=\"T_aeb7b5f4_8dcb_11e9_b15c_a53e79f1306drow12_col0\" class=\"data row12 col0\" ></td> \n",
       "        <td id=\"T_aeb7b5f4_8dcb_11e9_b15c_a53e79f1306drow12_col1\" class=\"data row12 col1\" >2531</td> \n",
       "    </tr></tbody> \n",
       "</table> "
      ],
      "text/plain": [
       "<pandas.io.formats.style.Styler at 0x7f523adfdeb8>"
      ]
     },
     "execution_count": 12,
     "metadata": {},
     "output_type": "execute_result"
    }
   ],
   "source": [
    "utils.cell_type_counts([adata, new])"
   ]
  },
  {
   "cell_type": "markdown",
   "metadata": {},
   "source": [
    "# Baron"
   ]
  },
  {
   "cell_type": "code",
   "execution_count": 13,
   "metadata": {},
   "outputs": [],
   "source": [
    "fname = path.join(\"..\", \"data\", \"baron_2016h.h5ad\")"
   ]
  },
  {
   "cell_type": "code",
   "execution_count": 14,
   "metadata": {},
   "outputs": [],
   "source": [
    "adata = anndata.read_h5ad(fname)"
   ]
  },
  {
   "cell_type": "code",
   "execution_count": 15,
   "metadata": {},
   "outputs": [
    {
     "data": {
      "text/plain": [
       "Beta cells          2525\n",
       "Alpha cells         2326\n",
       "Ductal cells        1077\n",
       "Acinar cells         958\n",
       "Delta cells          601\n",
       "PaSC                 457\n",
       "PP cells             255\n",
       "Endothelial cell     252\n",
       "Other                118\n",
       "Name: labels, dtype: int64"
      ]
     },
     "execution_count": 15,
     "metadata": {},
     "output_type": "execute_result"
    }
   ],
   "source": [
    "adata.obs[\"labels\"] = adata.obs[\"labels\"].replace({    \n",
    "    \"type B pancreatic cell\": \"Beta cells\",\n",
    "    \"pancreatic A cell\": \"Alpha cells\",\n",
    "    \"pancreatic D cell\": \"Delta cells\",\n",
    "    \"pancreatic PP cell\": \"PP cells\",\n",
    "    #\"pancreatic epsilon cell\": \"Epsilon cells\",\n",
    "    \"pancreatic epsilon cell\": \"Other\",\n",
    "    \n",
    "    \"pancreatic ductal cell\": \"Ductal cells\",\n",
    "    \"pancreatic acinar cell\": \"Acinar cells\",\n",
    "    \"pancreatic stellate cell\": \"PaSC\",  # pancreatic stellate cell\n",
    "    \n",
    "    \"endothelial cell\": \"Endothelial cell\",\n",
    "    \"macrophage\": \"Other\",\n",
    "    \"mast cell\": \"Other\",\n",
    "    \"Schwann cell\": \"Other\",\n",
    "    \"T cell\": \"Other\",\n",
    "})\n",
    "adata.obs[\"labels\"].value_counts()"
   ]
  },
  {
   "cell_type": "code",
   "execution_count": 16,
   "metadata": {},
   "outputs": [
    {
     "data": {
      "text/plain": [
       "AnnData object with n_obs × n_vars = 8569 × 20125 \n",
       "    obs: 'batch_id', 'labels'\n",
       "    uns: 'name', 'organism', 'tissue', 'year'"
      ]
     },
     "execution_count": 16,
     "metadata": {},
     "output_type": "execute_result"
    }
   ],
   "source": [
    "adata"
   ]
  },
  {
   "cell_type": "code",
   "execution_count": 17,
   "metadata": {},
   "outputs": [
    {
     "name": "stderr",
     "output_type": "stream",
     "text": [
      "... storing 'labels' as categorical\n"
     ]
    }
   ],
   "source": [
    "adata.write_h5ad(fname)"
   ]
  },
  {
   "cell_type": "markdown",
   "metadata": {},
   "source": [
    "# Xin"
   ]
  },
  {
   "cell_type": "code",
   "execution_count": 18,
   "metadata": {},
   "outputs": [],
   "source": [
    "fname = path.join(\"..\", \"data\", \"xin_2016.h5ad\")"
   ]
  },
  {
   "cell_type": "code",
   "execution_count": 19,
   "metadata": {},
   "outputs": [],
   "source": [
    "new = anndata.read_h5ad(fname)"
   ]
  },
  {
   "cell_type": "code",
   "execution_count": 20,
   "metadata": {},
   "outputs": [
    {
     "data": {
      "text/plain": [
       "Alpha cells    886\n",
       "Beta cells     472\n",
       "PP cells        85\n",
       "Delta cells     49\n",
       "Name: labels, dtype: int64"
      ]
     },
     "execution_count": 20,
     "metadata": {},
     "output_type": "execute_result"
    }
   ],
   "source": [
    "new.obs[\"labels\"] = new.obs[\"labels\"].replace({\n",
    "    \"type B pancreatic cell\": \"Beta cells\",\n",
    "    \"pancreatic A cell\": \"Alpha cells\",\n",
    "    \"pancreatic D cell\": \"Delta cells\",\n",
    "    \"pancreatic PP cell\": \"PP cells\",\n",
    "    #\"pancreatic epsilon cell\": \"Epsilon cells\",\n",
    "    \"pancreatic epsilon cell\": \"Other\",\n",
    "    \n",
    "    \"pancreatic ductal cell\": \"Ductal cells\",\n",
    "    \"pancreatic acinar cell\": \"Acinar cells\",\n",
    "    \"pancreatic stellate cell\": \"PaSC\",  # pancreatic stellate cell\n",
    "    \n",
    "    \"endothelial cell\": \"Endothelial cell\",\n",
    "    \"macrophage\": \"Other\",\n",
    "    \"mast cell\": \"Other\",\n",
    "    \"Schwann cell\": \"Other\",\n",
    "    \"T cell\": \"Other\",\n",
    "})\n",
    "new.obs[\"labels\"].value_counts()"
   ]
  },
  {
   "cell_type": "code",
   "execution_count": 21,
   "metadata": {},
   "outputs": [
    {
     "data": {
      "text/plain": [
       "AnnData object with n_obs × n_vars = 1492 × 39851 \n",
       "    obs: 'batch_id', 'disease', 'age', 'sex', 'labels'\n",
       "    uns: 'name', 'organism', 'tissue', 'year'"
      ]
     },
     "execution_count": 21,
     "metadata": {},
     "output_type": "execute_result"
    }
   ],
   "source": [
    "new"
   ]
  },
  {
   "cell_type": "code",
   "execution_count": 22,
   "metadata": {},
   "outputs": [
    {
     "name": "stderr",
     "output_type": "stream",
     "text": [
      "... storing 'labels' as categorical\n"
     ]
    }
   ],
   "source": [
    "new.write_h5ad(fname)"
   ]
  },
  {
   "cell_type": "code",
   "execution_count": 23,
   "metadata": {},
   "outputs": [
    {
     "data": {
      "text/html": [
       "<style  type=\"text/css\" >\n",
       "    #T_aeffe522_8dcb_11e9_b15c_a53e79f1306drow0_col0 {\n",
       "            width:  10em;\n",
       "        }    #T_aeffe522_8dcb_11e9_b15c_a53e79f1306drow0_col1 {\n",
       "            width:  10em;\n",
       "        }    #T_aeffe522_8dcb_11e9_b15c_a53e79f1306drow1_col0 {\n",
       "            width:  10em;\n",
       "        }    #T_aeffe522_8dcb_11e9_b15c_a53e79f1306drow1_col1 {\n",
       "            width:  10em;\n",
       "        }    #T_aeffe522_8dcb_11e9_b15c_a53e79f1306drow2_col0 {\n",
       "            width:  10em;\n",
       "        }    #T_aeffe522_8dcb_11e9_b15c_a53e79f1306drow2_col1 {\n",
       "            width:  10em;\n",
       "        }    #T_aeffe522_8dcb_11e9_b15c_a53e79f1306drow3_col0 {\n",
       "            width:  10em;\n",
       "        }    #T_aeffe522_8dcb_11e9_b15c_a53e79f1306drow3_col1 {\n",
       "            width:  10em;\n",
       "        }    #T_aeffe522_8dcb_11e9_b15c_a53e79f1306drow4_col0 {\n",
       "            width:  10em;\n",
       "        }    #T_aeffe522_8dcb_11e9_b15c_a53e79f1306drow4_col1 {\n",
       "            width:  10em;\n",
       "        }    #T_aeffe522_8dcb_11e9_b15c_a53e79f1306drow5_col0 {\n",
       "            width:  10em;\n",
       "        }    #T_aeffe522_8dcb_11e9_b15c_a53e79f1306drow5_col1 {\n",
       "            width:  10em;\n",
       "        }    #T_aeffe522_8dcb_11e9_b15c_a53e79f1306drow6_col0 {\n",
       "            width:  10em;\n",
       "        }    #T_aeffe522_8dcb_11e9_b15c_a53e79f1306drow6_col1 {\n",
       "            width:  10em;\n",
       "        }    #T_aeffe522_8dcb_11e9_b15c_a53e79f1306drow7_col0 {\n",
       "            width:  10em;\n",
       "        }    #T_aeffe522_8dcb_11e9_b15c_a53e79f1306drow7_col1 {\n",
       "            width:  10em;\n",
       "        }    #T_aeffe522_8dcb_11e9_b15c_a53e79f1306drow8_col0 {\n",
       "            width:  10em;\n",
       "        }    #T_aeffe522_8dcb_11e9_b15c_a53e79f1306drow8_col1 {\n",
       "            width:  10em;\n",
       "        }</style>  \n",
       "<table id=\"T_aeffe522_8dcb_11e9_b15c_a53e79f1306d\" > \n",
       "<thead>    <tr> \n",
       "        <th class=\"blank level0\" ></th> \n",
       "        <th class=\"col_heading level0 col0\" >baron_2016h</th> \n",
       "        <th class=\"col_heading level0 col1\" >xin_2016</th> \n",
       "    </tr></thead> \n",
       "<tbody>    <tr> \n",
       "        <th id=\"T_aeffe522_8dcb_11e9_b15c_a53e79f1306dlevel0_row0\" class=\"row_heading level0 row0\" >Acinar cells</th> \n",
       "        <td id=\"T_aeffe522_8dcb_11e9_b15c_a53e79f1306drow0_col0\" class=\"data row0 col0\" >958</td> \n",
       "        <td id=\"T_aeffe522_8dcb_11e9_b15c_a53e79f1306drow0_col1\" class=\"data row0 col1\" ></td> \n",
       "    </tr>    <tr> \n",
       "        <th id=\"T_aeffe522_8dcb_11e9_b15c_a53e79f1306dlevel0_row1\" class=\"row_heading level0 row1\" >Alpha cells</th> \n",
       "        <td id=\"T_aeffe522_8dcb_11e9_b15c_a53e79f1306drow1_col0\" class=\"data row1 col0\" >2326</td> \n",
       "        <td id=\"T_aeffe522_8dcb_11e9_b15c_a53e79f1306drow1_col1\" class=\"data row1 col1\" >886</td> \n",
       "    </tr>    <tr> \n",
       "        <th id=\"T_aeffe522_8dcb_11e9_b15c_a53e79f1306dlevel0_row2\" class=\"row_heading level0 row2\" >Beta cells</th> \n",
       "        <td id=\"T_aeffe522_8dcb_11e9_b15c_a53e79f1306drow2_col0\" class=\"data row2 col0\" >2525</td> \n",
       "        <td id=\"T_aeffe522_8dcb_11e9_b15c_a53e79f1306drow2_col1\" class=\"data row2 col1\" >472</td> \n",
       "    </tr>    <tr> \n",
       "        <th id=\"T_aeffe522_8dcb_11e9_b15c_a53e79f1306dlevel0_row3\" class=\"row_heading level0 row3\" >Delta cells</th> \n",
       "        <td id=\"T_aeffe522_8dcb_11e9_b15c_a53e79f1306drow3_col0\" class=\"data row3 col0\" >601</td> \n",
       "        <td id=\"T_aeffe522_8dcb_11e9_b15c_a53e79f1306drow3_col1\" class=\"data row3 col1\" >49</td> \n",
       "    </tr>    <tr> \n",
       "        <th id=\"T_aeffe522_8dcb_11e9_b15c_a53e79f1306dlevel0_row4\" class=\"row_heading level0 row4\" >Ductal cells</th> \n",
       "        <td id=\"T_aeffe522_8dcb_11e9_b15c_a53e79f1306drow4_col0\" class=\"data row4 col0\" >1077</td> \n",
       "        <td id=\"T_aeffe522_8dcb_11e9_b15c_a53e79f1306drow4_col1\" class=\"data row4 col1\" ></td> \n",
       "    </tr>    <tr> \n",
       "        <th id=\"T_aeffe522_8dcb_11e9_b15c_a53e79f1306dlevel0_row5\" class=\"row_heading level0 row5\" >Endothelial cell</th> \n",
       "        <td id=\"T_aeffe522_8dcb_11e9_b15c_a53e79f1306drow5_col0\" class=\"data row5 col0\" >252</td> \n",
       "        <td id=\"T_aeffe522_8dcb_11e9_b15c_a53e79f1306drow5_col1\" class=\"data row5 col1\" ></td> \n",
       "    </tr>    <tr> \n",
       "        <th id=\"T_aeffe522_8dcb_11e9_b15c_a53e79f1306dlevel0_row6\" class=\"row_heading level0 row6\" >Other</th> \n",
       "        <td id=\"T_aeffe522_8dcb_11e9_b15c_a53e79f1306drow6_col0\" class=\"data row6 col0\" >118</td> \n",
       "        <td id=\"T_aeffe522_8dcb_11e9_b15c_a53e79f1306drow6_col1\" class=\"data row6 col1\" ></td> \n",
       "    </tr>    <tr> \n",
       "        <th id=\"T_aeffe522_8dcb_11e9_b15c_a53e79f1306dlevel0_row7\" class=\"row_heading level0 row7\" >PP cells</th> \n",
       "        <td id=\"T_aeffe522_8dcb_11e9_b15c_a53e79f1306drow7_col0\" class=\"data row7 col0\" >255</td> \n",
       "        <td id=\"T_aeffe522_8dcb_11e9_b15c_a53e79f1306drow7_col1\" class=\"data row7 col1\" >85</td> \n",
       "    </tr>    <tr> \n",
       "        <th id=\"T_aeffe522_8dcb_11e9_b15c_a53e79f1306dlevel0_row8\" class=\"row_heading level0 row8\" >PaSC</th> \n",
       "        <td id=\"T_aeffe522_8dcb_11e9_b15c_a53e79f1306drow8_col0\" class=\"data row8 col0\" >457</td> \n",
       "        <td id=\"T_aeffe522_8dcb_11e9_b15c_a53e79f1306drow8_col1\" class=\"data row8 col1\" ></td> \n",
       "    </tr></tbody> \n",
       "</table> "
      ],
      "text/plain": [
       "<pandas.io.formats.style.Styler at 0x7f52a01f9710>"
      ]
     },
     "execution_count": 23,
     "metadata": {},
     "output_type": "execute_result"
    }
   ],
   "source": [
    "utils.cell_type_counts([adata, new])"
   ]
  },
  {
   "cell_type": "markdown",
   "metadata": {},
   "source": [
    "# Macosko"
   ]
  },
  {
   "cell_type": "code",
   "execution_count": 24,
   "metadata": {},
   "outputs": [],
   "source": [
    "fname = path.join(\"..\", \"data\", \"macosko_2015.h5ad\")"
   ]
  },
  {
   "cell_type": "code",
   "execution_count": 25,
   "metadata": {},
   "outputs": [],
   "source": [
    "adata = anndata.read_h5ad(fname)"
   ]
  },
  {
   "cell_type": "code",
   "execution_count": 26,
   "metadata": {},
   "outputs": [
    {
     "data": {
      "text/plain": [
       "Rods                      29400\n",
       "Bipolar cells              6285\n",
       "Amacrine cells             4426\n",
       "Cones                      1868\n",
       "Muller glia                1624\n",
       "Retinal ganglion cells      432\n",
       "Vascular endothelium        252\n",
       "Horizontal cells            252\n",
       "Fibroblasts                  85\n",
       "Microglia                    67\n",
       "Pericytes                    63\n",
       "Astrocytes                   54\n",
       "Name: labels, dtype: int64"
      ]
     },
     "execution_count": 26,
     "metadata": {},
     "output_type": "execute_result"
    }
   ],
   "source": [
    "adata.obs[\"labels\"] = adata.obs[\"labels\"].replace({\n",
    "    \"retinal rod cell\": \"Rods\",\n",
    "    \"retinal bipolar neuron\": \"Bipolar cells\",\n",
    "    \"amacrine cell\": \"Amacrine cells\",\n",
    "    \"retinal cone cell\": \"Cones\",\n",
    "    \"Mueller cell\": \"Muller glia\",\n",
    "    \"retinal ganglion cell\": \"Retinal ganglion cells\",\n",
    "    \"endothelial cell\": \"Vascular endothelium\",\n",
    "    \"retina horizontal cell\": \"Horizontal cells\",\n",
    "    \"fibroblast\": \"Fibroblasts\",\n",
    "    \"microglial cell\": \"Microglia\",\n",
    "    \"pericyte cell\": \"Pericytes\",\n",
    "    \"astrocyte\": \"Astrocytes\",\n",
    "})\n",
    "adata.obs[\"labels\"].value_counts()"
   ]
  },
  {
   "cell_type": "code",
   "execution_count": 27,
   "metadata": {},
   "outputs": [
    {
     "data": {
      "text/plain": [
       "AnnData object with n_obs × n_vars = 44808 × 24658 \n",
       "    obs: 'batch_id', 'cluster_id', 'labels'\n",
       "    uns: 'name', 'organism', 'tissue', 'year'"
      ]
     },
     "execution_count": 27,
     "metadata": {},
     "output_type": "execute_result"
    }
   ],
   "source": [
    "adata"
   ]
  },
  {
   "cell_type": "code",
   "execution_count": 28,
   "metadata": {},
   "outputs": [
    {
     "name": "stderr",
     "output_type": "stream",
     "text": [
      "... storing 'labels' as categorical\n"
     ]
    }
   ],
   "source": [
    "adata.write_h5ad(fname)"
   ]
  },
  {
   "cell_type": "markdown",
   "metadata": {},
   "source": [
    "# Shekhar"
   ]
  },
  {
   "cell_type": "code",
   "execution_count": 29,
   "metadata": {},
   "outputs": [],
   "source": [
    "fname = path.join(\"..\", \"data\", \"shekhar_2016.h5ad\")"
   ]
  },
  {
   "cell_type": "code",
   "execution_count": 30,
   "metadata": {},
   "outputs": [],
   "source": [
    "new = anndata.read_h5ad(fname)"
   ]
  },
  {
   "cell_type": "code",
   "execution_count": 31,
   "metadata": {},
   "outputs": [
    {
     "name": "stderr",
     "output_type": "stream",
     "text": [
      "/home/pavlin/miniconda3/envs/cell/lib/python3.6/site-packages/ipykernel_launcher.py:2: SettingWithCopyWarning: \n",
      "A value is trying to be set on a copy of a slice from a DataFrame\n",
      "\n",
      "See the caveats in the documentation: http://pandas.pydata.org/pandas-docs/stable/indexing.html#indexing-view-versus-copy\n",
      "  \n"
     ]
    },
    {
     "data": {
      "text/plain": [
       "Bipolar cells     23494\n",
       "Muller glia        2945\n",
       "Amacrine cells      252\n",
       "Rods                 91\n",
       "Cones                48\n",
       "Name: labels, dtype: int64"
      ]
     },
     "execution_count": 31,
     "metadata": {},
     "output_type": "execute_result"
    }
   ],
   "source": [
    "new.obs[\"labels\"] = new.obs[\"labels\"].astype(str)\n",
    "new.obs[\"labels\"][new.obs[\"labels\"].str.contains(\"bipolar cell\")] = \"retinal bipolar neuron\"\n",
    "new.obs[\"labels\"] = new.obs[\"labels\"].replace({\n",
    "    \"retinal rod cell\": \"Rods\",\n",
    "    \"retinal bipolar neuron\": \"Bipolar cells\",\n",
    "    \"amacrine cell\": \"Amacrine cells\",\n",
    "    \"retinal cone cell\": \"Cones\",\n",
    "    \"Mueller cell\": \"Muller glia\",\n",
    "    \"retinal ganglion cell\": \"Retinal ganglion cells\",\n",
    "    \"endothelial cell\": \"Vascular endothelium\",\n",
    "    \"retina horizontal cell\": \"Horizontal cells\",\n",
    "    \"fibroblast\": \"Fibroblasts\",\n",
    "    \"microglial cell\": \"Microglia\",\n",
    "    \"pericyte cell\": \"Pericytes\",\n",
    "    \"astrocyte\": \"Astrocytes\",\n",
    "})\n",
    "new.obs[\"labels\"].value_counts()"
   ]
  },
  {
   "cell_type": "code",
   "execution_count": 32,
   "metadata": {},
   "outputs": [
    {
     "data": {
      "text/plain": [
       "AnnData object with n_obs × n_vars = 26830 × 24903 \n",
       "    obs: 'batch_id', 'cluster_id', 'labels', 'subclusters'\n",
       "    uns: 'name', 'organism', 'tissue', 'year'"
      ]
     },
     "execution_count": 32,
     "metadata": {},
     "output_type": "execute_result"
    }
   ],
   "source": [
    "new"
   ]
  },
  {
   "cell_type": "code",
   "execution_count": 33,
   "metadata": {},
   "outputs": [
    {
     "name": "stderr",
     "output_type": "stream",
     "text": [
      "... storing 'labels' as categorical\n"
     ]
    }
   ],
   "source": [
    "new.write_h5ad(fname)"
   ]
  },
  {
   "cell_type": "code",
   "execution_count": 34,
   "metadata": {},
   "outputs": [
    {
     "data": {
      "text/html": [
       "<style  type=\"text/css\" >\n",
       "    #T_b03e0144_8dcb_11e9_b15c_a53e79f1306drow0_col0 {\n",
       "            width:  10em;\n",
       "        }    #T_b03e0144_8dcb_11e9_b15c_a53e79f1306drow0_col1 {\n",
       "            width:  10em;\n",
       "        }    #T_b03e0144_8dcb_11e9_b15c_a53e79f1306drow1_col0 {\n",
       "            width:  10em;\n",
       "        }    #T_b03e0144_8dcb_11e9_b15c_a53e79f1306drow1_col1 {\n",
       "            width:  10em;\n",
       "        }    #T_b03e0144_8dcb_11e9_b15c_a53e79f1306drow2_col0 {\n",
       "            width:  10em;\n",
       "        }    #T_b03e0144_8dcb_11e9_b15c_a53e79f1306drow2_col1 {\n",
       "            width:  10em;\n",
       "        }    #T_b03e0144_8dcb_11e9_b15c_a53e79f1306drow3_col0 {\n",
       "            width:  10em;\n",
       "        }    #T_b03e0144_8dcb_11e9_b15c_a53e79f1306drow3_col1 {\n",
       "            width:  10em;\n",
       "        }    #T_b03e0144_8dcb_11e9_b15c_a53e79f1306drow4_col0 {\n",
       "            width:  10em;\n",
       "        }    #T_b03e0144_8dcb_11e9_b15c_a53e79f1306drow4_col1 {\n",
       "            width:  10em;\n",
       "        }    #T_b03e0144_8dcb_11e9_b15c_a53e79f1306drow5_col0 {\n",
       "            width:  10em;\n",
       "        }    #T_b03e0144_8dcb_11e9_b15c_a53e79f1306drow5_col1 {\n",
       "            width:  10em;\n",
       "        }    #T_b03e0144_8dcb_11e9_b15c_a53e79f1306drow6_col0 {\n",
       "            width:  10em;\n",
       "        }    #T_b03e0144_8dcb_11e9_b15c_a53e79f1306drow6_col1 {\n",
       "            width:  10em;\n",
       "        }    #T_b03e0144_8dcb_11e9_b15c_a53e79f1306drow7_col0 {\n",
       "            width:  10em;\n",
       "        }    #T_b03e0144_8dcb_11e9_b15c_a53e79f1306drow7_col1 {\n",
       "            width:  10em;\n",
       "        }    #T_b03e0144_8dcb_11e9_b15c_a53e79f1306drow8_col0 {\n",
       "            width:  10em;\n",
       "        }    #T_b03e0144_8dcb_11e9_b15c_a53e79f1306drow8_col1 {\n",
       "            width:  10em;\n",
       "        }    #T_b03e0144_8dcb_11e9_b15c_a53e79f1306drow9_col0 {\n",
       "            width:  10em;\n",
       "        }    #T_b03e0144_8dcb_11e9_b15c_a53e79f1306drow9_col1 {\n",
       "            width:  10em;\n",
       "        }    #T_b03e0144_8dcb_11e9_b15c_a53e79f1306drow10_col0 {\n",
       "            width:  10em;\n",
       "        }    #T_b03e0144_8dcb_11e9_b15c_a53e79f1306drow10_col1 {\n",
       "            width:  10em;\n",
       "        }    #T_b03e0144_8dcb_11e9_b15c_a53e79f1306drow11_col0 {\n",
       "            width:  10em;\n",
       "        }    #T_b03e0144_8dcb_11e9_b15c_a53e79f1306drow11_col1 {\n",
       "            width:  10em;\n",
       "        }</style>  \n",
       "<table id=\"T_b03e0144_8dcb_11e9_b15c_a53e79f1306d\" > \n",
       "<thead>    <tr> \n",
       "        <th class=\"blank level0\" ></th> \n",
       "        <th class=\"col_heading level0 col0\" >macosko_2015</th> \n",
       "        <th class=\"col_heading level0 col1\" >shekhar_2016</th> \n",
       "    </tr></thead> \n",
       "<tbody>    <tr> \n",
       "        <th id=\"T_b03e0144_8dcb_11e9_b15c_a53e79f1306dlevel0_row0\" class=\"row_heading level0 row0\" >Amacrine cells</th> \n",
       "        <td id=\"T_b03e0144_8dcb_11e9_b15c_a53e79f1306drow0_col0\" class=\"data row0 col0\" >4426</td> \n",
       "        <td id=\"T_b03e0144_8dcb_11e9_b15c_a53e79f1306drow0_col1\" class=\"data row0 col1\" >252</td> \n",
       "    </tr>    <tr> \n",
       "        <th id=\"T_b03e0144_8dcb_11e9_b15c_a53e79f1306dlevel0_row1\" class=\"row_heading level0 row1\" >Astrocytes</th> \n",
       "        <td id=\"T_b03e0144_8dcb_11e9_b15c_a53e79f1306drow1_col0\" class=\"data row1 col0\" >54</td> \n",
       "        <td id=\"T_b03e0144_8dcb_11e9_b15c_a53e79f1306drow1_col1\" class=\"data row1 col1\" ></td> \n",
       "    </tr>    <tr> \n",
       "        <th id=\"T_b03e0144_8dcb_11e9_b15c_a53e79f1306dlevel0_row2\" class=\"row_heading level0 row2\" >Bipolar cells</th> \n",
       "        <td id=\"T_b03e0144_8dcb_11e9_b15c_a53e79f1306drow2_col0\" class=\"data row2 col0\" >6285</td> \n",
       "        <td id=\"T_b03e0144_8dcb_11e9_b15c_a53e79f1306drow2_col1\" class=\"data row2 col1\" >23494</td> \n",
       "    </tr>    <tr> \n",
       "        <th id=\"T_b03e0144_8dcb_11e9_b15c_a53e79f1306dlevel0_row3\" class=\"row_heading level0 row3\" >Cones</th> \n",
       "        <td id=\"T_b03e0144_8dcb_11e9_b15c_a53e79f1306drow3_col0\" class=\"data row3 col0\" >1868</td> \n",
       "        <td id=\"T_b03e0144_8dcb_11e9_b15c_a53e79f1306drow3_col1\" class=\"data row3 col1\" >48</td> \n",
       "    </tr>    <tr> \n",
       "        <th id=\"T_b03e0144_8dcb_11e9_b15c_a53e79f1306dlevel0_row4\" class=\"row_heading level0 row4\" >Fibroblasts</th> \n",
       "        <td id=\"T_b03e0144_8dcb_11e9_b15c_a53e79f1306drow4_col0\" class=\"data row4 col0\" >85</td> \n",
       "        <td id=\"T_b03e0144_8dcb_11e9_b15c_a53e79f1306drow4_col1\" class=\"data row4 col1\" ></td> \n",
       "    </tr>    <tr> \n",
       "        <th id=\"T_b03e0144_8dcb_11e9_b15c_a53e79f1306dlevel0_row5\" class=\"row_heading level0 row5\" >Horizontal cells</th> \n",
       "        <td id=\"T_b03e0144_8dcb_11e9_b15c_a53e79f1306drow5_col0\" class=\"data row5 col0\" >252</td> \n",
       "        <td id=\"T_b03e0144_8dcb_11e9_b15c_a53e79f1306drow5_col1\" class=\"data row5 col1\" ></td> \n",
       "    </tr>    <tr> \n",
       "        <th id=\"T_b03e0144_8dcb_11e9_b15c_a53e79f1306dlevel0_row6\" class=\"row_heading level0 row6\" >Microglia</th> \n",
       "        <td id=\"T_b03e0144_8dcb_11e9_b15c_a53e79f1306drow6_col0\" class=\"data row6 col0\" >67</td> \n",
       "        <td id=\"T_b03e0144_8dcb_11e9_b15c_a53e79f1306drow6_col1\" class=\"data row6 col1\" ></td> \n",
       "    </tr>    <tr> \n",
       "        <th id=\"T_b03e0144_8dcb_11e9_b15c_a53e79f1306dlevel0_row7\" class=\"row_heading level0 row7\" >Muller glia</th> \n",
       "        <td id=\"T_b03e0144_8dcb_11e9_b15c_a53e79f1306drow7_col0\" class=\"data row7 col0\" >1624</td> \n",
       "        <td id=\"T_b03e0144_8dcb_11e9_b15c_a53e79f1306drow7_col1\" class=\"data row7 col1\" >2945</td> \n",
       "    </tr>    <tr> \n",
       "        <th id=\"T_b03e0144_8dcb_11e9_b15c_a53e79f1306dlevel0_row8\" class=\"row_heading level0 row8\" >Pericytes</th> \n",
       "        <td id=\"T_b03e0144_8dcb_11e9_b15c_a53e79f1306drow8_col0\" class=\"data row8 col0\" >63</td> \n",
       "        <td id=\"T_b03e0144_8dcb_11e9_b15c_a53e79f1306drow8_col1\" class=\"data row8 col1\" ></td> \n",
       "    </tr>    <tr> \n",
       "        <th id=\"T_b03e0144_8dcb_11e9_b15c_a53e79f1306dlevel0_row9\" class=\"row_heading level0 row9\" >Retinal ganglion cells</th> \n",
       "        <td id=\"T_b03e0144_8dcb_11e9_b15c_a53e79f1306drow9_col0\" class=\"data row9 col0\" >432</td> \n",
       "        <td id=\"T_b03e0144_8dcb_11e9_b15c_a53e79f1306drow9_col1\" class=\"data row9 col1\" ></td> \n",
       "    </tr>    <tr> \n",
       "        <th id=\"T_b03e0144_8dcb_11e9_b15c_a53e79f1306dlevel0_row10\" class=\"row_heading level0 row10\" >Rods</th> \n",
       "        <td id=\"T_b03e0144_8dcb_11e9_b15c_a53e79f1306drow10_col0\" class=\"data row10 col0\" >29400</td> \n",
       "        <td id=\"T_b03e0144_8dcb_11e9_b15c_a53e79f1306drow10_col1\" class=\"data row10 col1\" >91</td> \n",
       "    </tr>    <tr> \n",
       "        <th id=\"T_b03e0144_8dcb_11e9_b15c_a53e79f1306dlevel0_row11\" class=\"row_heading level0 row11\" >Vascular endothelium</th> \n",
       "        <td id=\"T_b03e0144_8dcb_11e9_b15c_a53e79f1306drow11_col0\" class=\"data row11 col0\" >252</td> \n",
       "        <td id=\"T_b03e0144_8dcb_11e9_b15c_a53e79f1306drow11_col1\" class=\"data row11 col1\" ></td> \n",
       "    </tr></tbody> \n",
       "</table> "
      ],
      "text/plain": [
       "<pandas.io.formats.style.Styler at 0x7f5223567780>"
      ]
     },
     "execution_count": 34,
     "metadata": {},
     "output_type": "execute_result"
    }
   ],
   "source": [
    "utils.cell_type_counts([adata, new])"
   ]
  },
  {
   "cell_type": "code",
   "execution_count": null,
   "metadata": {},
   "outputs": [],
   "source": []
  }
 ],
 "metadata": {
  "kernelspec": {
   "display_name": "Python 3",
   "language": "python",
   "name": "python3"
  },
  "language_info": {
   "codemirror_mode": {
    "name": "ipython",
    "version": 3
   },
   "file_extension": ".py",
   "mimetype": "text/x-python",
   "name": "python",
   "nbconvert_exporter": "python",
   "pygments_lexer": "ipython3",
   "version": "3.6.8"
  }
 },
 "nbformat": 4,
 "nbformat_minor": 2
}
